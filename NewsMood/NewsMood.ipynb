{
 "cells": [
  {
   "cell_type": "markdown",
   "metadata": {},
   "source": [
    "# NewsMood\n",
    "\n",
    "* CNN has a mix of both positive and negative tweets, resulting in a compound score very close to zero (neutral).\n",
    "* CBS is the most positive news outlet of the five and rarely tweets negative content.\n",
    "* FOX and the New York Times have a very similar mix of positive and negative tweets, with their compound scores being nearly identical."
   ]
  },
  {
   "cell_type": "code",
   "execution_count": 64,
   "metadata": {},
   "outputs": [],
   "source": [
    "import tweepy\n",
    "import json\n",
    "import pandas as pd\n",
    "import numpy as np\n",
    "from config import (consumer_key, consumer_secret, access_token, access_token_secret)\n",
    "from vaderSentiment.vaderSentiment import SentimentIntensityAnalyzer\n",
    "from datetime import datetime\n",
    "import matplotlib.pyplot as plt\n",
    "\n",
    "analyzer = SentimentIntensityAnalyzer()\n",
    "auth = tweepy.OAuthHandler(consumer_key, consumer_secret)\n",
    "auth.set_access_token(access_token, access_token_secret)\n",
    "api = tweepy.API(auth, parser=tweepy.parsers.JSONParser())"
   ]
  },
  {
   "cell_type": "code",
   "execution_count": 111,
   "metadata": {},
   "outputs": [],
   "source": [
    "master_list = []\n",
    "news_orgs = [\"BBC\", \"CBS\", \"CNN\", \"FOXTV\", \"nytimes\"]\n",
    "\n",
    "for user in news_orgs:\n",
    "    \n",
    "    #Loop through 5 pages of tweets (total 100 tweets)\n",
    "    for x in range(1, 6):\n",
    "\n",
    "        #Get all tweets from home feed\n",
    "        public_tweets = api.user_timeline(user, page=x)\n",
    "\n",
    "        #Loop through all tweets\n",
    "        for tweet in public_tweets:\n",
    "\n",
    "            #Vader analysis\n",
    "            results = analyzer.polarity_scores(tweet[\"text\"])\n",
    "            \n",
    "            #Timestamp conversion\n",
    "            time = tweet[\"created_at\"]\n",
    "            converted_time = datetime.strptime(time, \"%a %b %d %H:%M:%S %z %Y\").replace(tzinfo=None)\n",
    "            \n",
    "            #Add all data to dictionary\n",
    "            master_list.append({\n",
    "                \"User\": user,\n",
    "                \"Time\": converted_time,\n",
    "                \"Tweet Text\": tweet[\"text\"],\n",
    "                \"Compound\": results[\"compound\"],\n",
    "                \"Positive\": results[\"pos\"],\n",
    "                \"Neutral\": results[\"neu\"],\n",
    "                \"Negative\": results[\"neg\"],\n",
    "            })"
   ]
  },
  {
   "cell_type": "code",
   "execution_count": 113,
   "metadata": {},
   "outputs": [],
   "source": [
    "#Convert list of dictionaries to dataframe\n",
    "data_frame = pd.DataFrame(master_list)\n",
    "\n",
    "#Export to CSV\n",
    "data_frame.to_excel(\"sentiment_news_tweets.xlsx\", index=False)"
   ]
  },
  {
   "cell_type": "code",
   "execution_count": 75,
   "metadata": {},
   "outputs": [],
   "source": [
    "#Creating user-specific dataframes\n",
    "bbc = data_frame[data_frame[\"User\"] == \"BBC\"]\n",
    "cbs = data_frame[data_frame[\"User\"] == \"CBS\"]\n",
    "cnn = data_frame[data_frame[\"User\"] == \"CNN\"]\n",
    "fox = data_frame[data_frame[\"User\"] == \"FOXTV\"]\n",
    "nyt = data_frame[data_frame[\"User\"] == \"nytimes\"]"
   ]
  },
  {
   "cell_type": "code",
   "execution_count": 1,
   "metadata": {},
   "outputs": [
    {
     "ename": "NameError",
     "evalue": "name 'plt' is not defined",
     "output_type": "error",
     "traceback": [
      "\u001b[1;31m---------------------------------------------------------------------------\u001b[0m",
      "\u001b[1;31mNameError\u001b[0m                                 Traceback (most recent call last)",
      "\u001b[1;32m<ipython-input-1-6e30545d618a>\u001b[0m in \u001b[0;36m<module>\u001b[1;34m()\u001b[0m\n\u001b[1;32m----> 1\u001b[1;33m \u001b[0mplt\u001b[0m\u001b[1;33m.\u001b[0m\u001b[0mfigure\u001b[0m\u001b[1;33m(\u001b[0m\u001b[1;33m)\u001b[0m\u001b[1;31m#figsize=(20,10)\u001b[0m\u001b[1;33m\u001b[0m\u001b[0m\n\u001b[0m\u001b[0;32m      2\u001b[0m \u001b[1;33m\u001b[0m\u001b[0m\n\u001b[0;32m      3\u001b[0m \u001b[1;31m#Different handles for each news outlet\u001b[0m\u001b[1;33m\u001b[0m\u001b[1;33m\u001b[0m\u001b[0m\n\u001b[0;32m      4\u001b[0m \u001b[0mbbc_handle\u001b[0m \u001b[1;33m=\u001b[0m \u001b[0mplt\u001b[0m\u001b[1;33m.\u001b[0m\u001b[0mscatter\u001b[0m\u001b[1;33m(\u001b[0m\u001b[0mbbc\u001b[0m\u001b[1;33m.\u001b[0m\u001b[0mindex\u001b[0m\u001b[1;33m,\u001b[0m \u001b[0mbbc\u001b[0m\u001b[1;33m[\u001b[0m\u001b[1;34m\"Compound\"\u001b[0m\u001b[1;33m]\u001b[0m\u001b[1;33m,\u001b[0m \u001b[0mmarker\u001b[0m\u001b[1;33m=\u001b[0m\u001b[1;34m\"o\"\u001b[0m\u001b[1;33m,\u001b[0m \u001b[0mc\u001b[0m\u001b[1;33m=\u001b[0m\u001b[1;34m\"yellow\"\u001b[0m\u001b[1;33m,\u001b[0m \u001b[0medgecolors\u001b[0m\u001b[1;33m=\u001b[0m\u001b[1;34m\"black\"\u001b[0m\u001b[1;33m,\u001b[0m \u001b[0malpha\u001b[0m \u001b[1;33m=\u001b[0m \u001b[1;36m.70\u001b[0m\u001b[1;33m,\u001b[0m \u001b[0mlabel\u001b[0m \u001b[1;33m=\u001b[0m \u001b[1;34m\"BBC\"\u001b[0m\u001b[1;33m)\u001b[0m\u001b[1;33m\u001b[0m\u001b[0m\n\u001b[0;32m      5\u001b[0m \u001b[0mcbs_handle\u001b[0m \u001b[1;33m=\u001b[0m \u001b[0mplt\u001b[0m\u001b[1;33m.\u001b[0m\u001b[0mscatter\u001b[0m\u001b[1;33m(\u001b[0m\u001b[0mbbc\u001b[0m\u001b[1;33m.\u001b[0m\u001b[0mindex\u001b[0m\u001b[1;33m,\u001b[0m \u001b[0mcbs\u001b[0m\u001b[1;33m[\u001b[0m\u001b[1;34m\"Compound\"\u001b[0m\u001b[1;33m]\u001b[0m\u001b[1;33m,\u001b[0m \u001b[0mmarker\u001b[0m\u001b[1;33m=\u001b[0m\u001b[1;34m\"o\"\u001b[0m\u001b[1;33m,\u001b[0m \u001b[0mc\u001b[0m\u001b[1;33m=\u001b[0m\u001b[1;34m\"darkorchid\"\u001b[0m\u001b[1;33m,\u001b[0m \u001b[0medgecolors\u001b[0m\u001b[1;33m=\u001b[0m\u001b[1;34m\"black\"\u001b[0m\u001b[1;33m,\u001b[0m \u001b[0malpha\u001b[0m \u001b[1;33m=\u001b[0m \u001b[1;36m.70\u001b[0m\u001b[1;33m,\u001b[0m \u001b[0mlabel\u001b[0m \u001b[1;33m=\u001b[0m \u001b[1;34m\"CBS\"\u001b[0m\u001b[1;33m)\u001b[0m\u001b[1;33m\u001b[0m\u001b[0m\n",
      "\u001b[1;31mNameError\u001b[0m: name 'plt' is not defined"
     ]
    }
   ],
   "source": [
    "plt.figure()\n",
    "\n",
    "#Different handles for each news outlet\n",
    "bbc_handle = plt.scatter(bbc.index, bbc[\"Compound\"], marker=\"o\", c=\"yellow\", edgecolors=\"black\", alpha = .70, label = \"BBC\")\n",
    "cbs_handle = plt.scatter(bbc.index, cbs[\"Compound\"], marker=\"o\", c=\"darkorchid\", edgecolors=\"black\", alpha = .70, label = \"CBS\")\n",
    "cnn_handle = plt.scatter(bbc.index, cnn[\"Compound\"], marker=\"o\", c=\"lawngreen\", edgecolors=\"black\", alpha = .70, label = \"CNN\")\n",
    "fox_handle = plt.scatter(bbc.index, fox[\"Compound\"], marker=\"o\", c=\"orangered\", edgecolors=\"black\", alpha = .70, label = \"FOX\")\n",
    "nyt_handle = plt.scatter(bbc.index, nyt[\"Compound\"], marker=\"o\", c=\"dodgerblue\", edgecolors=\"black\", alpha = .70, label = \"NYT\")\n",
    "\n",
    "plt.title(\"Sentiment Analysis of Media Tweets (6/13/2018)\")\n",
    "plt.xlabel(\"Number of Tweets Ago\")\n",
    "plt.ylabel(\"Sentiment\")\n",
    "\n",
    "lgnd = plt.legend(loc=\"upper left\", fancybox=True, shadow=True, bbox_to_anchor=(1, 0.5), title=\"News Outlets\")\n",
    "lgnd.legendHandles[0]\n",
    "lgnd.legendHandles[1]\n",
    "lgnd.legendHandles[2]\n",
    "lgnd.legendHandles[3]\n",
    "lgnd.legendHandles[4]\n",
    "\n",
    "#Export to PNG\n",
    "plt.savefig(\"sentiment_scatter.png\",dpi=\"figure\",bbox_inches=\"tight\")\n",
    "\n",
    "plt.show()"
   ]
  },
  {
   "cell_type": "code",
   "execution_count": 77,
   "metadata": {},
   "outputs": [
    {
     "data": {
      "text/html": [
       "<div>\n",
       "<style scoped>\n",
       "    .dataframe tbody tr th:only-of-type {\n",
       "        vertical-align: middle;\n",
       "    }\n",
       "\n",
       "    .dataframe tbody tr th {\n",
       "        vertical-align: top;\n",
       "    }\n",
       "\n",
       "    .dataframe thead th {\n",
       "        text-align: right;\n",
       "    }\n",
       "</style>\n",
       "<table border=\"1\" class=\"dataframe\">\n",
       "  <thead>\n",
       "    <tr style=\"text-align: right;\">\n",
       "      <th></th>\n",
       "      <th>Compound</th>\n",
       "      <th>Negative</th>\n",
       "      <th>Neutral</th>\n",
       "      <th>Positive</th>\n",
       "    </tr>\n",
       "    <tr>\n",
       "      <th>User</th>\n",
       "      <th></th>\n",
       "      <th></th>\n",
       "      <th></th>\n",
       "      <th></th>\n",
       "    </tr>\n",
       "  </thead>\n",
       "  <tbody>\n",
       "    <tr>\n",
       "      <th>BBC</th>\n",
       "      <td>0.125926</td>\n",
       "      <td>0.05397</td>\n",
       "      <td>0.84130</td>\n",
       "      <td>0.10473</td>\n",
       "    </tr>\n",
       "    <tr>\n",
       "      <th>CBS</th>\n",
       "      <td>0.371163</td>\n",
       "      <td>0.00813</td>\n",
       "      <td>0.80018</td>\n",
       "      <td>0.19169</td>\n",
       "    </tr>\n",
       "    <tr>\n",
       "      <th>CNN</th>\n",
       "      <td>0.009810</td>\n",
       "      <td>0.06280</td>\n",
       "      <td>0.86752</td>\n",
       "      <td>0.06969</td>\n",
       "    </tr>\n",
       "    <tr>\n",
       "      <th>FOXTV</th>\n",
       "      <td>0.157047</td>\n",
       "      <td>0.02280</td>\n",
       "      <td>0.85366</td>\n",
       "      <td>0.12354</td>\n",
       "    </tr>\n",
       "    <tr>\n",
       "      <th>nytimes</th>\n",
       "      <td>0.161059</td>\n",
       "      <td>0.04120</td>\n",
       "      <td>0.84178</td>\n",
       "      <td>0.11702</td>\n",
       "    </tr>\n",
       "  </tbody>\n",
       "</table>\n",
       "</div>"
      ],
      "text/plain": [
       "         Compound  Negative  Neutral  Positive\n",
       "User                                          \n",
       "BBC      0.125926   0.05397  0.84130   0.10473\n",
       "CBS      0.371163   0.00813  0.80018   0.19169\n",
       "CNN      0.009810   0.06280  0.86752   0.06969\n",
       "FOXTV    0.157047   0.02280  0.85366   0.12354\n",
       "nytimes  0.161059   0.04120  0.84178   0.11702"
      ]
     },
     "execution_count": 77,
     "metadata": {},
     "output_type": "execute_result"
    }
   ],
   "source": [
    "group = data_frame.groupby([\"User\"])\n",
    "thing = group.mean()\n",
    "thing"
   ]
  },
  {
   "cell_type": "code",
   "execution_count": 91,
   "metadata": {},
   "outputs": [
    {
     "data": {
      "image/png": "[encoded data removed]",
      "text/plain": [
       "<matplotlib.figure.Figure at 0xccef8d0>"
      ]
     },
     "metadata": {},
     "output_type": "display_data"
    }
   ],
   "source": [
    "barlist = plt.bar(news_orgs, thing[\"Compound\"])\n",
    "\n",
    "#Assigning corresponding colors to each bar\n",
    "barlist[0].set_color('yellow')\n",
    "barlist[1].set_color('darkorchid')\n",
    "barlist[2].set_color('lawngreen')\n",
    "barlist[3].set_color('orangered')\n",
    "barlist[4].set_color('dodgerblue')\n",
    "\n",
    "plt.title(\"Sentiment Analysis of Media Tweets (6/13/2018)\")\n",
    "plt.xlabel(\"News Outlets\")\n",
    "plt.ylabel(\"Sentiment\")\n",
    "\n",
    "#Export to PNG\n",
    "plt.savefig(\"sentiment_bar.png\")\n",
    "\n",
    "plt.show()"
   ]
  },
  {
   "cell_type": "code",
   "execution_count": null,
   "metadata": {},
   "outputs": [],
   "source": []
  }
 ],
 "metadata": {
  "kernelspec": {
   "display_name": "Python 3",
   "language": "python",
   "name": "python3"
  },
  "language_info": {
   "codemirror_mode": {
    "name": "ipython",
    "version": 3
   },
   "file_extension": ".py",
   "mimetype": "text/x-python",
   "name": "python",
   "nbconvert_exporter": "python",
   "pygments_lexer": "ipython3",
   "version": "3.6.4"
  }
 },
 "nbformat": 4,
 "nbformat_minor": 2
}
